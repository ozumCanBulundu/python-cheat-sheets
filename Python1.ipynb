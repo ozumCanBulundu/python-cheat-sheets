{
 "cells": [
  {
   "cell_type": "markdown",
   "id": "716c7d9f",
   "metadata": {},
   "source": [
    "# Math Exprations"
   ]
  },
  {
   "cell_type": "code",
   "execution_count": 1,
   "id": "ada4f591",
   "metadata": {},
   "outputs": [
    {
     "data": {
      "text/plain": [
       "2"
      ]
     },
     "execution_count": 1,
     "metadata": {},
     "output_type": "execute_result"
    }
   ],
   "source": [
    "1 + 1"
   ]
  },
  {
   "cell_type": "code",
   "execution_count": 2,
   "id": "e9a579e9",
   "metadata": {},
   "outputs": [
    {
     "data": {
      "text/plain": [
       "1"
      ]
     },
     "execution_count": 2,
     "metadata": {},
     "output_type": "execute_result"
    }
   ],
   "source": [
    "2 - 1"
   ]
  },
  {
   "cell_type": "code",
   "execution_count": 3,
   "id": "0e00aa6b",
   "metadata": {},
   "outputs": [
    {
     "data": {
      "text/plain": [
       "4"
      ]
     },
     "execution_count": 3,
     "metadata": {},
     "output_type": "execute_result"
    }
   ],
   "source": [
    "2 * 2"
   ]
  },
  {
   "cell_type": "code",
   "execution_count": 4,
   "id": "6eab8170",
   "metadata": {},
   "outputs": [
    {
     "data": {
      "text/plain": [
       "3.0"
      ]
     },
     "execution_count": 4,
     "metadata": {},
     "output_type": "execute_result"
    }
   ],
   "source": [
    "6 / 2"
   ]
  },
  {
   "cell_type": "code",
   "execution_count": 5,
   "id": "78452986",
   "metadata": {},
   "outputs": [
    {
     "data": {
      "text/plain": [
       "0"
      ]
     },
     "execution_count": 5,
     "metadata": {},
     "output_type": "execute_result"
    }
   ],
   "source": [
    "6 % 2"
   ]
  },
  {
   "cell_type": "code",
   "execution_count": 6,
   "id": "6bad1bed",
   "metadata": {},
   "outputs": [
    {
     "data": {
      "text/plain": [
       "4"
      ]
     },
     "execution_count": 6,
     "metadata": {},
     "output_type": "execute_result"
    }
   ],
   "source": [
    "2 ** 2"
   ]
  },
  {
   "cell_type": "code",
   "execution_count": 7,
   "id": "a7c8e5d3",
   "metadata": {},
   "outputs": [
    {
     "data": {
      "text/plain": [
       "11"
      ]
     },
     "execution_count": 7,
     "metadata": {},
     "output_type": "execute_result"
    }
   ],
   "source": [
    "(2 + 2) * 3 - 1"
   ]
  },
  {
   "cell_type": "markdown",
   "id": "6d524532",
   "metadata": {},
   "source": [
    "# Variable Assignment"
   ]
  },
  {
   "cell_type": "code",
   "execution_count": 8,
   "id": "cff093b5",
   "metadata": {},
   "outputs": [],
   "source": [
    "# Can not start with number or special characters\n",
    "name_of_variable = \"value_of_variable\""
   ]
  },
  {
   "cell_type": "code",
   "execution_count": 10,
   "id": "c1c9d970",
   "metadata": {},
   "outputs": [],
   "source": [
    "x = 1\n",
    "y = 2"
   ]
  },
  {
   "cell_type": "code",
   "execution_count": 11,
   "id": "7dc84875",
   "metadata": {},
   "outputs": [
    {
     "data": {
      "text/plain": [
       "3"
      ]
     },
     "execution_count": 11,
     "metadata": {},
     "output_type": "execute_result"
    }
   ],
   "source": [
    "x + y"
   ]
  },
  {
   "cell_type": "markdown",
   "id": "4308a01d",
   "metadata": {},
   "source": [
    "# String"
   ]
  },
  {
   "cell_type": "code",
   "execution_count": 12,
   "id": "4c748229",
   "metadata": {},
   "outputs": [
    {
     "data": {
      "text/plain": [
       "'single_quotes'"
      ]
     },
     "execution_count": 12,
     "metadata": {},
     "output_type": "execute_result"
    }
   ],
   "source": [
    "'single_quotes'"
   ]
  },
  {
   "cell_type": "code",
   "execution_count": 13,
   "id": "628ddf82",
   "metadata": {},
   "outputs": [],
   "source": [
    "var = 'single_quotes'"
   ]
  },
  {
   "cell_type": "code",
   "execution_count": 14,
   "id": "9f9fdfc3",
   "metadata": {},
   "outputs": [
    {
     "data": {
      "text/plain": [
       "'single_quotes'"
      ]
     },
     "execution_count": 14,
     "metadata": {},
     "output_type": "execute_result"
    }
   ],
   "source": [
    "var"
   ]
  },
  {
   "cell_type": "code",
   "execution_count": 15,
   "id": "60c007b2",
   "metadata": {},
   "outputs": [
    {
     "data": {
      "text/plain": [
       "'double_quotes'"
      ]
     },
     "execution_count": 15,
     "metadata": {},
     "output_type": "execute_result"
    }
   ],
   "source": [
    "\"double_quotes\""
   ]
  },
  {
   "cell_type": "code",
   "execution_count": 16,
   "id": "300bcacb",
   "metadata": {},
   "outputs": [
    {
     "data": {
      "text/plain": [
       "'triple_quotes'"
      ]
     },
     "execution_count": 16,
     "metadata": {},
     "output_type": "execute_result"
    }
   ],
   "source": [
    "'''triple_quotes'''"
   ]
  },
  {
   "cell_type": "markdown",
   "id": "c4605c49",
   "metadata": {},
   "source": [
    "# Printing"
   ]
  },
  {
   "cell_type": "code",
   "execution_count": 17,
   "id": "86ce20b7",
   "metadata": {},
   "outputs": [
    {
     "name": "stdout",
     "output_type": "stream",
     "text": [
      "3\n"
     ]
    }
   ],
   "source": [
    "x = 2\n",
    "y = 1 \n",
    "z = x + y\n",
    "print(z)"
   ]
  },
  {
   "cell_type": "code",
   "execution_count": 18,
   "id": "10543f27",
   "metadata": {},
   "outputs": [
    {
     "name": "stdout",
     "output_type": "stream",
     "text": [
      "Print\n"
     ]
    }
   ],
   "source": [
    "print(\"Print\")"
   ]
  },
  {
   "cell_type": "markdown",
   "id": "de500881",
   "metadata": {},
   "source": [
    "# Format"
   ]
  },
  {
   "cell_type": "code",
   "execution_count": 22,
   "id": "0265cbb2",
   "metadata": {},
   "outputs": [
    {
     "name": "stdout",
     "output_type": "stream",
     "text": [
      "Number is ses\n"
     ]
    }
   ],
   "source": [
    "#Old format\n",
    "print(\"Number is {}\".format(\"ses\"))"
   ]
  },
  {
   "cell_type": "code",
   "execution_count": 23,
   "id": "ca66562b",
   "metadata": {},
   "outputs": [],
   "source": [
    "name = \"Can\""
   ]
  },
  {
   "cell_type": "code",
   "execution_count": 27,
   "id": "e2dc64d3",
   "metadata": {},
   "outputs": [
    {
     "name": "stdout",
     "output_type": "stream",
     "text": [
      "Do you really want to do this Can ?\n"
     ]
    }
   ],
   "source": [
    "#New format\n",
    "print(f\"Do you really want to do this {name} ?\")"
   ]
  },
  {
   "cell_type": "markdown",
   "id": "e21e1f58",
   "metadata": {},
   "source": [
    "# Variable Types"
   ]
  },
  {
   "cell_type": "code",
   "execution_count": 25,
   "id": "18ed1c46",
   "metadata": {},
   "outputs": [],
   "source": [
    "string = \"String\"\n",
    "integer = 2\n",
    "floatt = 3.4\n",
    "boolean = True"
   ]
  },
  {
   "cell_type": "code",
   "execution_count": 26,
   "id": "e05e93af",
   "metadata": {},
   "outputs": [
    {
     "name": "stdout",
     "output_type": "stream",
     "text": [
      "<class 'str'>\n",
      "<class 'int'>\n",
      "<class 'float'>\n",
      "<class 'bool'>\n"
     ]
    }
   ],
   "source": [
    "print(type(string))\n",
    "print(type(integer))\n",
    "print(type(floatt))\n",
    "print(type(boolean))"
   ]
  },
  {
   "cell_type": "markdown",
   "id": "18d69663",
   "metadata": {},
   "source": [
    "# Escape Character"
   ]
  },
  {
   "cell_type": "code",
   "execution_count": 28,
   "id": "5f8f01a1",
   "metadata": {},
   "outputs": [
    {
     "name": "stdout",
     "output_type": "stream",
     "text": [
      "Do you really want to do that Can?\n"
     ]
    }
   ],
   "source": [
    "print(\"Do you really want to do that Can?\")"
   ]
  },
  {
   "cell_type": "code",
   "execution_count": 29,
   "id": "08944168",
   "metadata": {},
   "outputs": [
    {
     "name": "stdout",
     "output_type": "stream",
     "text": [
      "Do you really want to do that \n",
      "Can?\n"
     ]
    }
   ],
   "source": [
    "print(\"Do you really want to do that \\nCan?\")"
   ]
  },
  {
   "cell_type": "markdown",
   "id": "821cac0e",
   "metadata": {},
   "source": [
    "# Lists"
   ]
  },
  {
   "cell_type": "code",
   "execution_count": 30,
   "id": "a0f5bd63",
   "metadata": {},
   "outputs": [
    {
     "data": {
      "text/plain": [
       "[1, 2, 3, 4, 5]"
      ]
     },
     "execution_count": 30,
     "metadata": {},
     "output_type": "execute_result"
    }
   ],
   "source": [
    "[1,2,3,4,5]"
   ]
  },
  {
   "cell_type": "code",
   "execution_count": 31,
   "id": "b6753a83",
   "metadata": {},
   "outputs": [],
   "source": [
    "new_list = [1,2,3,4,5,6]"
   ]
  },
  {
   "cell_type": "code",
   "execution_count": 32,
   "id": "f18ce48f",
   "metadata": {},
   "outputs": [
    {
     "data": {
      "text/plain": [
       "4"
      ]
     },
     "execution_count": 32,
     "metadata": {},
     "output_type": "execute_result"
    }
   ],
   "source": [
    "new_list[3]"
   ]
  },
  {
   "cell_type": "code",
   "execution_count": 34,
   "id": "ef5cfb5d",
   "metadata": {},
   "outputs": [
    {
     "data": {
      "text/plain": [
       "[2, 3]"
      ]
     },
     "execution_count": 34,
     "metadata": {},
     "output_type": "execute_result"
    }
   ],
   "source": [
    "new_list[1:3]"
   ]
  },
  {
   "cell_type": "markdown",
   "id": "c354af8a",
   "metadata": {},
   "source": [
    "# List Methods"
   ]
  },
  {
   "cell_type": "code",
   "execution_count": 35,
   "id": "9eb33e1a",
   "metadata": {},
   "outputs": [],
   "source": [
    "new_list.append(19)"
   ]
  },
  {
   "cell_type": "code",
   "execution_count": 36,
   "id": "5fdf337d",
   "metadata": {},
   "outputs": [
    {
     "name": "stdout",
     "output_type": "stream",
     "text": [
      "[1, 2, 3, 4, 5, 6, 19]\n"
     ]
    }
   ],
   "source": [
    "print(new_list)"
   ]
  },
  {
   "cell_type": "code",
   "execution_count": 37,
   "id": "37fa0a08",
   "metadata": {},
   "outputs": [],
   "source": [
    "new_list.extend([12,34,76,78])"
   ]
  },
  {
   "cell_type": "code",
   "execution_count": 38,
   "id": "96aa4ca6",
   "metadata": {},
   "outputs": [
    {
     "name": "stdout",
     "output_type": "stream",
     "text": [
      "[1, 2, 3, 4, 5, 6, 19, 12, 34, 76, 78]\n"
     ]
    }
   ],
   "source": [
    "print(new_list)"
   ]
  },
  {
   "cell_type": "code",
   "execution_count": 39,
   "id": "9122944f",
   "metadata": {},
   "outputs": [
    {
     "data": {
      "text/plain": [
       "78"
      ]
     },
     "execution_count": 39,
     "metadata": {},
     "output_type": "execute_result"
    }
   ],
   "source": [
    "new_list.pop()"
   ]
  },
  {
   "cell_type": "code",
   "execution_count": 40,
   "id": "5ec3ab2b",
   "metadata": {},
   "outputs": [
    {
     "name": "stdout",
     "output_type": "stream",
     "text": [
      "[1, 2, 3, 4, 5, 6, 19, 12, 34, 76]\n"
     ]
    }
   ],
   "source": [
    "print(new_list)"
   ]
  },
  {
   "cell_type": "code",
   "execution_count": 45,
   "id": "41672de6",
   "metadata": {},
   "outputs": [
    {
     "data": {
      "text/plain": [
       "3"
      ]
     },
     "execution_count": 45,
     "metadata": {},
     "output_type": "execute_result"
    }
   ],
   "source": [
    "new_list.pop(2) #index"
   ]
  },
  {
   "cell_type": "code",
   "execution_count": 46,
   "id": "9d53bbaa",
   "metadata": {},
   "outputs": [
    {
     "name": "stdout",
     "output_type": "stream",
     "text": [
      "[1, 2, 4, 5, 6, 19, 12, 34, 76]\n"
     ]
    }
   ],
   "source": [
    "print(new_list)"
   ]
  },
  {
   "cell_type": "code",
   "execution_count": 48,
   "id": "edf42222",
   "metadata": {},
   "outputs": [],
   "source": [
    "new_list.remove(19)"
   ]
  },
  {
   "cell_type": "code",
   "execution_count": 49,
   "id": "c75150cd",
   "metadata": {},
   "outputs": [
    {
     "name": "stdout",
     "output_type": "stream",
     "text": [
      "[1, 2, 4, 5, 6, 12, 34, 76]\n"
     ]
    }
   ],
   "source": [
    "print(new_list)"
   ]
  },
  {
   "cell_type": "code",
   "execution_count": 50,
   "id": "89bdc9dc",
   "metadata": {},
   "outputs": [],
   "source": [
    "new_list.sort()"
   ]
  },
  {
   "cell_type": "code",
   "execution_count": 51,
   "id": "281a7abb",
   "metadata": {},
   "outputs": [
    {
     "name": "stdout",
     "output_type": "stream",
     "text": [
      "[1, 2, 4, 5, 6, 12, 34, 76]\n"
     ]
    }
   ],
   "source": [
    "print(new_list)"
   ]
  },
  {
   "cell_type": "code",
   "execution_count": 52,
   "id": "cd213a5c",
   "metadata": {},
   "outputs": [],
   "source": [
    "nest = [1,2,3,[4,5,['target']]]"
   ]
  },
  {
   "cell_type": "code",
   "execution_count": 53,
   "id": "48c52a9b",
   "metadata": {},
   "outputs": [
    {
     "data": {
      "text/plain": [
       "'target'"
      ]
     },
     "execution_count": 53,
     "metadata": {},
     "output_type": "execute_result"
    }
   ],
   "source": [
    "nest[3][2][0]"
   ]
  },
  {
   "cell_type": "code",
   "execution_count": 54,
   "id": "aefbb3a6",
   "metadata": {},
   "outputs": [
    {
     "name": "stdout",
     "output_type": "stream",
     "text": [
      "target\n"
     ]
    }
   ],
   "source": [
    "print(nest[3][2][0])"
   ]
  },
  {
   "cell_type": "markdown",
   "id": "9d1ededc",
   "metadata": {},
   "source": [
    "# Dictionaries"
   ]
  },
  {
   "cell_type": "code",
   "execution_count": 55,
   "id": "f2e2aa74",
   "metadata": {},
   "outputs": [],
   "source": [
    "info = {\"name\":\"Can\",\"surname\":\"Bulundu\",\"job\":\"student\"}"
   ]
  },
  {
   "cell_type": "code",
   "execution_count": 56,
   "id": "64af2bbc",
   "metadata": {},
   "outputs": [
    {
     "name": "stdout",
     "output_type": "stream",
     "text": [
      "Can\n"
     ]
    }
   ],
   "source": [
    "print(info[\"name\"])"
   ]
  },
  {
   "cell_type": "code",
   "execution_count": 57,
   "id": "b00d2ed8",
   "metadata": {},
   "outputs": [
    {
     "name": "stdout",
     "output_type": "stream",
     "text": [
      "Can\n"
     ]
    }
   ],
   "source": [
    "print(info.get(\"name\"))"
   ]
  },
  {
   "cell_type": "code",
   "execution_count": 58,
   "id": "fcb86faf",
   "metadata": {},
   "outputs": [],
   "source": [
    "del info[\"job\"]"
   ]
  },
  {
   "cell_type": "code",
   "execution_count": 59,
   "id": "0721dd9d",
   "metadata": {},
   "outputs": [
    {
     "name": "stdout",
     "output_type": "stream",
     "text": [
      "{'name': 'Can', 'surname': 'Bulundu'}\n"
     ]
    }
   ],
   "source": [
    "print(info)"
   ]
  },
  {
   "cell_type": "code",
   "execution_count": 60,
   "id": "f3a82c0c",
   "metadata": {},
   "outputs": [
    {
     "data": {
      "text/plain": [
       "dict_keys(['name', 'surname'])"
      ]
     },
     "execution_count": 60,
     "metadata": {},
     "output_type": "execute_result"
    }
   ],
   "source": [
    "info.keys()"
   ]
  },
  {
   "cell_type": "code",
   "execution_count": 61,
   "id": "efaf1195",
   "metadata": {},
   "outputs": [
    {
     "data": {
      "text/plain": [
       "dict_values(['Can', 'Bulundu'])"
      ]
     },
     "execution_count": 61,
     "metadata": {},
     "output_type": "execute_result"
    }
   ],
   "source": [
    "info.values()"
   ]
  },
  {
   "cell_type": "code",
   "execution_count": 62,
   "id": "57c2e152",
   "metadata": {},
   "outputs": [
    {
     "data": {
      "text/plain": [
       "dict_items([('name', 'Can'), ('surname', 'Bulundu')])"
      ]
     },
     "execution_count": 62,
     "metadata": {},
     "output_type": "execute_result"
    }
   ],
   "source": [
    "info.items()"
   ]
  },
  {
   "cell_type": "code",
   "execution_count": null,
   "id": "26fee578",
   "metadata": {},
   "outputs": [],
   "source": []
  }
 ],
 "metadata": {
  "kernelspec": {
   "display_name": "Python 3 (ipykernel)",
   "language": "python",
   "name": "python3"
  },
  "language_info": {
   "codemirror_mode": {
    "name": "ipython",
    "version": 3
   },
   "file_extension": ".py",
   "mimetype": "text/x-python",
   "name": "python",
   "nbconvert_exporter": "python",
   "pygments_lexer": "ipython3",
   "version": "3.9.12"
  }
 },
 "nbformat": 4,
 "nbformat_minor": 5
}
