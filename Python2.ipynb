{
 "cells": [
  {
   "cell_type": "markdown",
   "id": "9c9c0580",
   "metadata": {},
   "source": [
    "One Additional Property For Dictionaries"
   ]
  },
  {
   "cell_type": "code",
   "execution_count": 1,
   "id": "db1cb560",
   "metadata": {},
   "outputs": [],
   "source": [
    "new_dic = {\"k1\":{\"innerkey\":[1,2,3]}}"
   ]
  },
  {
   "cell_type": "code",
   "execution_count": 2,
   "id": "b9c85be3",
   "metadata": {},
   "outputs": [
    {
     "data": {
      "text/plain": [
       "2"
      ]
     },
     "execution_count": 2,
     "metadata": {},
     "output_type": "execute_result"
    }
   ],
   "source": [
    "new_dic[\"k1\"][\"innerkey\"][1]"
   ]
  },
  {
   "cell_type": "markdown",
   "id": "4a481ec2",
   "metadata": {},
   "source": [
    "# Tuples"
   ]
  },
  {
   "cell_type": "code",
   "execution_count": 3,
   "id": "448afc30",
   "metadata": {},
   "outputs": [],
   "source": [
    "names = (\"Can\",\"Ozum\",\"Ali\")"
   ]
  },
  {
   "cell_type": "code",
   "execution_count": 4,
   "id": "b7b6b13e",
   "metadata": {},
   "outputs": [
    {
     "ename": "TypeError",
     "evalue": "'tuple' object does not support item assignment",
     "output_type": "error",
     "traceback": [
      "\u001b[1;31m---------------------------------------------------------------------------\u001b[0m",
      "\u001b[1;31mTypeError\u001b[0m                                 Traceback (most recent call last)",
      "Input \u001b[1;32mIn [4]\u001b[0m, in \u001b[0;36m<cell line: 1>\u001b[1;34m()\u001b[0m\n\u001b[1;32m----> 1\u001b[0m names[\u001b[38;5;241m0\u001b[39m] \u001b[38;5;241m=\u001b[39m \u001b[38;5;124m\"\u001b[39m\u001b[38;5;124mJohn\u001b[39m\u001b[38;5;124m\"\u001b[39m\n",
      "\u001b[1;31mTypeError\u001b[0m: 'tuple' object does not support item assignment"
     ]
    }
   ],
   "source": [
    "names[0] = \"John\""
   ]
  },
  {
   "cell_type": "code",
   "execution_count": 5,
   "id": "92ab4f20",
   "metadata": {},
   "outputs": [
    {
     "data": {
      "text/plain": [
       "{1, 2, 3, 4, 5}"
      ]
     },
     "execution_count": 5,
     "metadata": {},
     "output_type": "execute_result"
    }
   ],
   "source": [
    "set({1,2,3,4,5,2,1,2,3,4,1,2,3,4}) #setting unique values"
   ]
  },
  {
   "cell_type": "markdown",
   "id": "96e87424",
   "metadata": {},
   "source": [
    "# Comparison Operators"
   ]
  },
  {
   "cell_type": "code",
   "execution_count": 9,
   "id": "18a48d96",
   "metadata": {},
   "outputs": [
    {
     "name": "stdout",
     "output_type": "stream",
     "text": [
      "True\n"
     ]
    }
   ],
   "source": [
    "print(10 > 9)"
   ]
  },
  {
   "cell_type": "code",
   "execution_count": 10,
   "id": "648fb805",
   "metadata": {},
   "outputs": [
    {
     "name": "stdout",
     "output_type": "stream",
     "text": [
      "True\n"
     ]
    }
   ],
   "source": [
    "print(10 >= 9)"
   ]
  },
  {
   "cell_type": "code",
   "execution_count": 11,
   "id": "a640582a",
   "metadata": {},
   "outputs": [
    {
     "name": "stdout",
     "output_type": "stream",
     "text": [
      "False\n"
     ]
    }
   ],
   "source": [
    "print(10 <= 9)"
   ]
  },
  {
   "cell_type": "code",
   "execution_count": 2,
   "id": "f6eefd13",
   "metadata": {},
   "outputs": [
    {
     "name": "stdout",
     "output_type": "stream",
     "text": [
      "False\n"
     ]
    }
   ],
   "source": [
    "print(10 < 9)"
   ]
  },
  {
   "cell_type": "code",
   "execution_count": 3,
   "id": "c510f55b",
   "metadata": {},
   "outputs": [
    {
     "name": "stdout",
     "output_type": "stream",
     "text": [
      "True\n"
     ]
    }
   ],
   "source": [
    "print((10>9) or (10<9))"
   ]
  },
  {
   "cell_type": "code",
   "execution_count": 4,
   "id": "59e0092a",
   "metadata": {},
   "outputs": [
    {
     "name": "stdout",
     "output_type": "stream",
     "text": [
      "False\n"
     ]
    }
   ],
   "source": [
    "print((10>9) and (10<9))"
   ]
  },
  {
   "cell_type": "code",
   "execution_count": 5,
   "id": "284020bd",
   "metadata": {},
   "outputs": [
    {
     "name": "stdout",
     "output_type": "stream",
     "text": [
      "False\n"
     ]
    }
   ],
   "source": [
    "x = 9\n",
    "y = 10\n",
    "print(x == y)"
   ]
  },
  {
   "cell_type": "code",
   "execution_count": 7,
   "id": "88185d54",
   "metadata": {},
   "outputs": [
    {
     "name": "stdout",
     "output_type": "stream",
     "text": [
      "True\n"
     ]
    }
   ],
   "source": [
    "print(x != y)"
   ]
  },
  {
   "cell_type": "markdown",
   "id": "7e33671a",
   "metadata": {},
   "source": [
    "# İf-Else"
   ]
  },
  {
   "cell_type": "code",
   "execution_count": 14,
   "id": "1ac3266a",
   "metadata": {},
   "outputs": [
    {
     "name": "stdout",
     "output_type": "stream",
     "text": [
      "You can enter\n"
     ]
    }
   ],
   "source": [
    "age = 20\n",
    "if (age >= 18):\n",
    "    print(\"You can enter\")"
   ]
  },
  {
   "cell_type": "code",
   "execution_count": 16,
   "id": "c0e33072",
   "metadata": {},
   "outputs": [
    {
     "name": "stdout",
     "output_type": "stream",
     "text": [
      "You can't enter\n"
     ]
    }
   ],
   "source": [
    "age = 17\n",
    "if (age >= 18):\n",
    "    print(\"You can enter\")\n",
    "else:\n",
    "    print(\"You can't enter\")"
   ]
  },
  {
   "cell_type": "code",
   "execution_count": 19,
   "id": "0ad1ae63",
   "metadata": {},
   "outputs": [
    {
     "name": "stdout",
     "output_type": "stream",
     "text": [
      "Not: 89\n",
      "Harf Notu: B\n"
     ]
    }
   ],
   "source": [
    "exam_note = int(input(\"Not: \"))\n",
    "\n",
    "if exam_note >= 90:\n",
    "  print(\"Harf Notu: A\")\n",
    "elif exam_note >= 80:\n",
    "  print(\"Harf Notu: B\")\n",
    "else:\n",
    "  print(\"Harf Notu FF\")"
   ]
  },
  {
   "cell_type": "code",
   "execution_count": 20,
   "id": "aeab924b",
   "metadata": {},
   "outputs": [],
   "source": [
    "information = {\"name\": \"Alp\", \"surname\": \"Sarıca\", \"age\": 27, \"covid\": True}"
   ]
  },
  {
   "cell_type": "code",
   "execution_count": 24,
   "id": "a988bd2d",
   "metadata": {},
   "outputs": [
    {
     "name": "stdout",
     "output_type": "stream",
     "text": [
      "Correct!\n"
     ]
    }
   ],
   "source": [
    "if (information[\"name\"] == \"Alp\"):\n",
    "    print(\"Correct!\")\n",
    "else:\n",
    "    print(\"Wrong!\")"
   ]
  }
 ],
 "metadata": {
  "kernelspec": {
   "display_name": "Python 3 (ipykernel)",
   "language": "python",
   "name": "python3"
  },
  "language_info": {
   "codemirror_mode": {
    "name": "ipython",
    "version": 3
   },
   "file_extension": ".py",
   "mimetype": "text/x-python",
   "name": "python",
   "nbconvert_exporter": "python",
   "pygments_lexer": "ipython3",
   "version": "3.9.12"
  }
 },
 "nbformat": 4,
 "nbformat_minor": 5
}
